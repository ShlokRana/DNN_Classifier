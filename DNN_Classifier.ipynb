{
 "cells": [
  {
   "cell_type": "markdown",
   "metadata": {},
   "source": [
    "# Classification\n",
    "Where regression was used to predict a numeric value, classification is used to seperate data points into classes of different labels."
   ]
  },
  {
   "cell_type": "markdown",
   "metadata": {},
   "source": [
    "### Dataset\n",
    "This specific dataset seperates flowers into 3 different classes of species.\n",
    "- Setosa\n",
    "- Versicolor\n",
    "- Virginica\n",
    "\n",
    "The information about each flower is the following.\n",
    "- sepal length\n",
    "- sepal width\n",
    "- petal length\n",
    "- petal width"
   ]
  },
  {
   "cell_type": "code",
   "execution_count": 1,
   "metadata": {},
   "outputs": [],
   "source": [
    "from __future__ import absolute_import, division, print_function, unicode_literals\n",
    "# With __future__ module's inclusion, you can slowly be accustomed to incompatible changes or \n",
    "# to such ones introducing new keywords.\n",
    "\n",
    "import numpy as np\n",
    "import pandas as pd\n",
    "import matplotlib.pyplot as plt\n",
    "from IPython.display import clear_output\n",
    "from six.moves import urllib\n",
    "# six is a package that helps in writing code that is compatible with both Python 2 and Python 3.\n",
    "\n",
    "import tensorflow.compat.v2.feature_column as fc\n",
    "\n",
    "import tensorflow as tf"
   ]
  },
  {
   "cell_type": "code",
   "execution_count": 2,
   "metadata": {},
   "outputs": [],
   "source": [
    "CSV_COLUMN_NAMES = ['SepalLength', 'SepalWidth', 'PetalLength', 'PetalWidth', 'Species']\n",
    "SPECIES = ['Setosa', 'Versicolor', 'Virginica']\n",
    "# Lets define some constants to help us later on"
   ]
  },
  {
   "cell_type": "code",
   "execution_count": 3,
   "metadata": {},
   "outputs": [],
   "source": [
    "train_path = tf.keras.utils.get_file(\n",
    "    \"iris_training.csv\", \"https://storage.googleapis.com/download.tensorflow.org/data/iris_training.csv\")\n",
    "test_path = tf.keras.utils.get_file(\n",
    "    \"iris_test.csv\", \"https://storage.googleapis.com/download.tensorflow.org/data/iris_test.csv\")\n",
    "\n",
    "train = pd.read_csv(train_path, names=CSV_COLUMN_NAMES, header=0)\n",
    "test = pd.read_csv(test_path, names=CSV_COLUMN_NAMES, header=0)\n",
    "# Here we use keras (a module inside of TensorFlow) to grab our datasets and read them into a pandas dataframe"
   ]
  },
  {
   "cell_type": "markdown",
   "metadata": {},
   "source": [
    "We give all of the coloumns of the dataframe by names attribute and header=0 means row zero is the header of a dataframe."
   ]
  },
  {
   "cell_type": "code",
   "execution_count": 4,
   "metadata": {},
   "outputs": [
    {
     "data": {
      "text/html": [
       "<div>\n",
       "<style scoped>\n",
       "    .dataframe tbody tr th:only-of-type {\n",
       "        vertical-align: middle;\n",
       "    }\n",
       "\n",
       "    .dataframe tbody tr th {\n",
       "        vertical-align: top;\n",
       "    }\n",
       "\n",
       "    .dataframe thead th {\n",
       "        text-align: right;\n",
       "    }\n",
       "</style>\n",
       "<table border=\"1\" class=\"dataframe\">\n",
       "  <thead>\n",
       "    <tr style=\"text-align: right;\">\n",
       "      <th></th>\n",
       "      <th>SepalLength</th>\n",
       "      <th>SepalWidth</th>\n",
       "      <th>PetalLength</th>\n",
       "      <th>PetalWidth</th>\n",
       "      <th>Species</th>\n",
       "    </tr>\n",
       "  </thead>\n",
       "  <tbody>\n",
       "    <tr>\n",
       "      <th>0</th>\n",
       "      <td>6.4</td>\n",
       "      <td>2.8</td>\n",
       "      <td>5.6</td>\n",
       "      <td>2.2</td>\n",
       "      <td>2</td>\n",
       "    </tr>\n",
       "    <tr>\n",
       "      <th>1</th>\n",
       "      <td>5.0</td>\n",
       "      <td>2.3</td>\n",
       "      <td>3.3</td>\n",
       "      <td>1.0</td>\n",
       "      <td>1</td>\n",
       "    </tr>\n",
       "    <tr>\n",
       "      <th>2</th>\n",
       "      <td>4.9</td>\n",
       "      <td>2.5</td>\n",
       "      <td>4.5</td>\n",
       "      <td>1.7</td>\n",
       "      <td>2</td>\n",
       "    </tr>\n",
       "    <tr>\n",
       "      <th>3</th>\n",
       "      <td>4.9</td>\n",
       "      <td>3.1</td>\n",
       "      <td>1.5</td>\n",
       "      <td>0.1</td>\n",
       "      <td>0</td>\n",
       "    </tr>\n",
       "    <tr>\n",
       "      <th>4</th>\n",
       "      <td>5.7</td>\n",
       "      <td>3.8</td>\n",
       "      <td>1.7</td>\n",
       "      <td>0.3</td>\n",
       "      <td>0</td>\n",
       "    </tr>\n",
       "  </tbody>\n",
       "</table>\n",
       "</div>"
      ],
      "text/plain": [
       "   SepalLength  SepalWidth  PetalLength  PetalWidth  Species\n",
       "0          6.4         2.8          5.6         2.2        2\n",
       "1          5.0         2.3          3.3         1.0        1\n",
       "2          4.9         2.5          4.5         1.7        2\n",
       "3          4.9         3.1          1.5         0.1        0\n",
       "4          5.7         3.8          1.7         0.3        0"
      ]
     },
     "execution_count": 4,
     "metadata": {},
     "output_type": "execute_result"
    }
   ],
   "source": [
    "train.head()"
   ]
  },
  {
   "cell_type": "code",
   "execution_count": 5,
   "metadata": {},
   "outputs": [
    {
     "data": {
      "text/html": [
       "<div>\n",
       "<style scoped>\n",
       "    .dataframe tbody tr th:only-of-type {\n",
       "        vertical-align: middle;\n",
       "    }\n",
       "\n",
       "    .dataframe tbody tr th {\n",
       "        vertical-align: top;\n",
       "    }\n",
       "\n",
       "    .dataframe thead th {\n",
       "        text-align: right;\n",
       "    }\n",
       "</style>\n",
       "<table border=\"1\" class=\"dataframe\">\n",
       "  <thead>\n",
       "    <tr style=\"text-align: right;\">\n",
       "      <th></th>\n",
       "      <th>SepalLength</th>\n",
       "      <th>SepalWidth</th>\n",
       "      <th>PetalLength</th>\n",
       "      <th>PetalWidth</th>\n",
       "    </tr>\n",
       "  </thead>\n",
       "  <tbody>\n",
       "    <tr>\n",
       "      <th>0</th>\n",
       "      <td>6.4</td>\n",
       "      <td>2.8</td>\n",
       "      <td>5.6</td>\n",
       "      <td>2.2</td>\n",
       "    </tr>\n",
       "    <tr>\n",
       "      <th>1</th>\n",
       "      <td>5.0</td>\n",
       "      <td>2.3</td>\n",
       "      <td>3.3</td>\n",
       "      <td>1.0</td>\n",
       "    </tr>\n",
       "    <tr>\n",
       "      <th>2</th>\n",
       "      <td>4.9</td>\n",
       "      <td>2.5</td>\n",
       "      <td>4.5</td>\n",
       "      <td>1.7</td>\n",
       "    </tr>\n",
       "    <tr>\n",
       "      <th>3</th>\n",
       "      <td>4.9</td>\n",
       "      <td>3.1</td>\n",
       "      <td>1.5</td>\n",
       "      <td>0.1</td>\n",
       "    </tr>\n",
       "    <tr>\n",
       "      <th>4</th>\n",
       "      <td>5.7</td>\n",
       "      <td>3.8</td>\n",
       "      <td>1.7</td>\n",
       "      <td>0.3</td>\n",
       "    </tr>\n",
       "  </tbody>\n",
       "</table>\n",
       "</div>"
      ],
      "text/plain": [
       "   SepalLength  SepalWidth  PetalLength  PetalWidth\n",
       "0          6.4         2.8          5.6         2.2\n",
       "1          5.0         2.3          3.3         1.0\n",
       "2          4.9         2.5          4.5         1.7\n",
       "3          4.9         3.1          1.5         0.1\n",
       "4          5.7         3.8          1.7         0.3"
      ]
     },
     "execution_count": 5,
     "metadata": {},
     "output_type": "execute_result"
    }
   ],
   "source": [
    "train_y = train.pop('Species')\n",
    "test_y = test.pop('Species')\n",
    "train.head() # the species column is now gone"
   ]
  },
  {
   "cell_type": "code",
   "execution_count": 6,
   "metadata": {},
   "outputs": [
    {
     "data": {
      "text/plain": [
       "(120, 4)"
      ]
     },
     "execution_count": 6,
     "metadata": {},
     "output_type": "execute_result"
    }
   ],
   "source": [
    "train.shape  # we have 120 entires with 4 features"
   ]
  },
  {
   "cell_type": "markdown",
   "metadata": {},
   "source": [
    "## Input Function"
   ]
  },
  {
   "cell_type": "code",
   "execution_count": 7,
   "metadata": {},
   "outputs": [],
   "source": [
    "def input_fn(features, labels, training=True, batch_size=256):\n",
    "    # Convert the inputs to a Dataset.\n",
    "    dataset = tf.data.Dataset.from_tensor_slices((dict(features), labels))\n",
    "\n",
    "    # Shuffle and repeat if you are in training mode.\n",
    "    if training:\n",
    "        dataset = dataset.shuffle(1000).repeat()\n",
    "    \n",
    "    return dataset.batch(batch_size)"
   ]
  },
  {
   "cell_type": "markdown",
   "metadata": {},
   "source": [
    "## Feature Columns"
   ]
  },
  {
   "cell_type": "code",
   "execution_count": 8,
   "metadata": {},
   "outputs": [
    {
     "name": "stdout",
     "output_type": "stream",
     "text": [
      "[NumericColumn(key='SepalLength', shape=(1,), default_value=None, dtype=tf.float32, normalizer_fn=None), NumericColumn(key='SepalWidth', shape=(1,), default_value=None, dtype=tf.float32, normalizer_fn=None), NumericColumn(key='PetalLength', shape=(1,), default_value=None, dtype=tf.float32, normalizer_fn=None), NumericColumn(key='PetalWidth', shape=(1,), default_value=None, dtype=tf.float32, normalizer_fn=None)]\n"
     ]
    }
   ],
   "source": [
    "# Feature columns describe how to use the input.\n",
    "my_feature_columns = []\n",
    "for key in train.keys():\n",
    "    my_feature_columns.append(tf.feature_column.numeric_column(key=key))\n",
    "print(my_feature_columns)"
   ]
  },
  {
   "cell_type": "code",
   "execution_count": 9,
   "metadata": {},
   "outputs": [
    {
     "name": "stdout",
     "output_type": "stream",
     "text": [
      "[NumericColumn(key='SepalLength', shape=(1,), default_value=None, dtype=tf.float32, normalizer_fn=None), NumericColumn(key='SepalWidth', shape=(1,), default_value=None, dtype=tf.float32, normalizer_fn=None), NumericColumn(key='PetalLength', shape=(1,), default_value=None, dtype=tf.float32, normalizer_fn=None), NumericColumn(key='PetalWidth', shape=(1,), default_value=None, dtype=tf.float32, normalizer_fn=None)]\n"
     ]
    }
   ],
   "source": [
    "# Or we can also make like this our input function.\n",
    "CSV_COLUMN_NAMES = ['SepalLength', 'SepalWidth', 'PetalLength', 'PetalWidth']\n",
    "# Also we have to define our CSV_COLUMN_NAMES again because to remove the 'Species' in the list.\n",
    "my_feature_columns = []\n",
    "for x in CSV_COLUMN_NAMES:\n",
    "     my_feature_columns.append(tf.feature_column.numeric_column(x, dtype=tf.float32))\n",
    "print(my_feature_columns)"
   ]
  },
  {
   "cell_type": "markdown",
   "metadata": {},
   "source": [
    "## Building the Model\n",
    "And now we are ready to choose a model. For classification tasks there are variety of different estimators/models that we can pick from. Some options are listed below.\n",
    "- ```DNNClassifier``` (Deep Neural Network)\n",
    "- ```LinearClassifier```\n",
    "\n",
    "We can choose either model but the DNN seems to be the best choice. This is because we may not be able to find a linear coorespondence in our data. "
   ]
  },
  {
   "cell_type": "code",
   "execution_count": 10,
   "metadata": {},
   "outputs": [
    {
     "name": "stdout",
     "output_type": "stream",
     "text": [
      "INFO:tensorflow:Using default config.\n",
      "WARNING:tensorflow:Using temporary folder as model directory: C:\\Users\\SHLOKR~1\\AppData\\Local\\Temp\\tmp7a551bg2\n",
      "INFO:tensorflow:Using config: {'_model_dir': 'C:\\\\Users\\\\SHLOKR~1\\\\AppData\\\\Local\\\\Temp\\\\tmp7a551bg2', '_tf_random_seed': None, '_save_summary_steps': 100, '_save_checkpoints_steps': None, '_save_checkpoints_secs': 600, '_session_config': allow_soft_placement: true\n",
      "graph_options {\n",
      "  rewrite_options {\n",
      "    meta_optimizer_iterations: ONE\n",
      "  }\n",
      "}\n",
      ", '_keep_checkpoint_max': 5, '_keep_checkpoint_every_n_hours': 10000, '_log_step_count_steps': 100, '_train_distribute': None, '_device_fn': None, '_protocol': None, '_eval_distribute': None, '_experimental_distribute': None, '_experimental_max_worker_delay_secs': None, '_session_creation_timeout_secs': 7200, '_checkpoint_save_graph_def': True, '_service': None, '_cluster_spec': ClusterSpec({}), '_task_type': 'worker', '_task_id': 0, '_global_id_in_cluster': 0, '_master': '', '_evaluation_master': '', '_is_chief': True, '_num_ps_replicas': 0, '_num_worker_replicas': 1}\n"
     ]
    }
   ],
   "source": [
    "# Build a DNN with 2 hidden layers with 30 and 10 hidden nodes each.\n",
    "# The estimator modules contains all the premade models from tensor flow\n",
    "classifier = tf.estimator.DNNClassifier(\n",
    "    feature_columns=my_feature_columns,\n",
    "    # Two hidden layers of 30 and 10 nodes respectively.\n",
    "    # This is like building the architecture of the model\n",
    "    hidden_units=[30, 10],\n",
    "    \n",
    "    # The model must choose between 3 classes.\n",
    "    # Basically the number of possible outputs or classes that we have for the given problem, in our case 3 classes of flowers\n",
    "    # Default value of this argument is 2\n",
    "    n_classes=3)"
   ]
  },
  {
   "cell_type": "code",
   "execution_count": 11,
   "metadata": {},
   "outputs": [
    {
     "name": "stdout",
     "output_type": "stream",
     "text": [
      "WARNING:tensorflow:From D:\\Programming\\Anaconda\\lib\\site-packages\\tensorflow\\python\\training\\training_util.py:235: Variable.initialized_value (from tensorflow.python.ops.variables) is deprecated and will be removed in a future version.\n",
      "Instructions for updating:\n",
      "Use Variable.read_value. Variables in 2.X are initialized automatically both in eager and graph (inside tf.defun) contexts.\n",
      "INFO:tensorflow:Calling model_fn.\n",
      "WARNING:tensorflow:From D:\\Programming\\Anaconda\\lib\\site-packages\\tensorflow\\python\\keras\\optimizer_v2\\adagrad.py:82: calling Constant.__init__ (from tensorflow.python.ops.init_ops) with dtype is deprecated and will be removed in a future version.\n",
      "Instructions for updating:\n",
      "Call initializer instance with the dtype argument instead of passing it to the constructor\n",
      "INFO:tensorflow:Done calling model_fn.\n",
      "INFO:tensorflow:Create CheckpointSaverHook.\n",
      "INFO:tensorflow:Graph was finalized.\n",
      "INFO:tensorflow:Running local_init_op.\n",
      "INFO:tensorflow:Done running local_init_op.\n",
      "INFO:tensorflow:Calling checkpoint listeners before saving checkpoint 0...\n",
      "INFO:tensorflow:Saving checkpoints for 0 into C:\\Users\\SHLOKR~1\\AppData\\Local\\Temp\\tmp7a551bg2\\model.ckpt.\n",
      "INFO:tensorflow:Calling checkpoint listeners after saving checkpoint 0...\n",
      "INFO:tensorflow:loss = 1.576372, step = 0\n",
      "INFO:tensorflow:global_step/sec: 279.193\n",
      "INFO:tensorflow:loss = 1.220871, step = 100 (0.367 sec)\n",
      "INFO:tensorflow:global_step/sec: 351.998\n",
      "INFO:tensorflow:loss = 1.1570055, step = 200 (0.280 sec)\n",
      "INFO:tensorflow:global_step/sec: 370.907\n",
      "INFO:tensorflow:loss = 1.1172638, step = 300 (0.276 sec)\n",
      "INFO:tensorflow:global_step/sec: 363.269\n",
      "INFO:tensorflow:loss = 1.086919, step = 400 (0.277 sec)\n",
      "INFO:tensorflow:global_step/sec: 378.509\n",
      "INFO:tensorflow:loss = 1.0488992, step = 500 (0.267 sec)\n",
      "INFO:tensorflow:global_step/sec: 366.507\n",
      "INFO:tensorflow:loss = 1.0146549, step = 600 (0.277 sec)\n",
      "INFO:tensorflow:global_step/sec: 341.729\n",
      "INFO:tensorflow:loss = 0.9982789, step = 700 (0.278 sec)\n",
      "INFO:tensorflow:global_step/sec: 361.775\n",
      "INFO:tensorflow:loss = 0.956053, step = 800 (0.278 sec)\n",
      "INFO:tensorflow:global_step/sec: 375.928\n",
      "INFO:tensorflow:loss = 0.9409045, step = 900 (0.274 sec)\n",
      "INFO:tensorflow:global_step/sec: 351.7\n",
      "INFO:tensorflow:loss = 0.9154001, step = 1000 (0.285 sec)\n",
      "INFO:tensorflow:global_step/sec: 367.191\n",
      "INFO:tensorflow:loss = 0.90150833, step = 1100 (0.277 sec)\n",
      "INFO:tensorflow:global_step/sec: 348.186\n",
      "INFO:tensorflow:loss = 0.8715397, step = 1200 (0.275 sec)\n",
      "INFO:tensorflow:global_step/sec: 421.384\n",
      "INFO:tensorflow:loss = 0.86010927, step = 1300 (0.241 sec)\n",
      "INFO:tensorflow:global_step/sec: 423.443\n",
      "INFO:tensorflow:loss = 0.8323831, step = 1400 (0.230 sec)\n",
      "INFO:tensorflow:global_step/sec: 416.264\n",
      "INFO:tensorflow:loss = 0.80657566, step = 1500 (0.240 sec)\n",
      "INFO:tensorflow:global_step/sec: 424.617\n",
      "INFO:tensorflow:loss = 0.7983191, step = 1600 (0.236 sec)\n",
      "INFO:tensorflow:global_step/sec: 352.872\n",
      "INFO:tensorflow:loss = 0.7701814, step = 1700 (0.287 sec)\n",
      "INFO:tensorflow:global_step/sec: 343.238\n",
      "INFO:tensorflow:loss = 0.7578548, step = 1800 (0.288 sec)\n",
      "INFO:tensorflow:global_step/sec: 358.533\n",
      "INFO:tensorflow:loss = 0.74592733, step = 1900 (0.277 sec)\n",
      "INFO:tensorflow:global_step/sec: 364.523\n",
      "INFO:tensorflow:loss = 0.722619, step = 2000 (0.279 sec)\n",
      "INFO:tensorflow:global_step/sec: 351.938\n",
      "INFO:tensorflow:loss = 0.7022835, step = 2100 (0.281 sec)\n",
      "INFO:tensorflow:global_step/sec: 359.692\n",
      "INFO:tensorflow:loss = 0.68462193, step = 2200 (0.280 sec)\n",
      "INFO:tensorflow:global_step/sec: 371.201\n",
      "INFO:tensorflow:loss = 0.6782042, step = 2300 (0.261 sec)\n",
      "INFO:tensorflow:global_step/sec: 340.522\n",
      "INFO:tensorflow:loss = 0.655344, step = 2400 (0.295 sec)\n",
      "INFO:tensorflow:global_step/sec: 354.539\n",
      "INFO:tensorflow:loss = 0.64612246, step = 2500 (0.288 sec)\n",
      "INFO:tensorflow:global_step/sec: 383.117\n",
      "INFO:tensorflow:loss = 0.6373882, step = 2600 (0.274 sec)\n",
      "INFO:tensorflow:global_step/sec: 352.237\n",
      "INFO:tensorflow:loss = 0.6297399, step = 2700 (0.281 sec)\n",
      "INFO:tensorflow:global_step/sec: 347.753\n",
      "INFO:tensorflow:loss = 0.6244301, step = 2800 (0.277 sec)\n",
      "INFO:tensorflow:global_step/sec: 366.283\n",
      "INFO:tensorflow:loss = 0.6119405, step = 2900 (0.283 sec)\n",
      "INFO:tensorflow:global_step/sec: 361.54\n",
      "INFO:tensorflow:loss = 0.60049725, step = 3000 (0.276 sec)\n",
      "INFO:tensorflow:global_step/sec: 361.149\n",
      "INFO:tensorflow:loss = 0.5890497, step = 3100 (0.270 sec)\n",
      "INFO:tensorflow:global_step/sec: 359.458\n",
      "INFO:tensorflow:loss = 0.58298206, step = 3200 (0.274 sec)\n",
      "INFO:tensorflow:global_step/sec: 378.38\n",
      "INFO:tensorflow:loss = 0.5678643, step = 3300 (0.265 sec)\n",
      "INFO:tensorflow:global_step/sec: 326.344\n",
      "INFO:tensorflow:loss = 0.564599, step = 3400 (0.305 sec)\n",
      "INFO:tensorflow:global_step/sec: 332.3\n",
      "INFO:tensorflow:loss = 0.56264406, step = 3500 (0.300 sec)\n",
      "INFO:tensorflow:global_step/sec: 357.781\n",
      "INFO:tensorflow:loss = 0.54911494, step = 3600 (0.282 sec)\n",
      "INFO:tensorflow:global_step/sec: 358.267\n",
      "INFO:tensorflow:loss = 0.53697157, step = 3700 (0.285 sec)\n",
      "INFO:tensorflow:global_step/sec: 356.058\n",
      "INFO:tensorflow:loss = 0.5346154, step = 3800 (0.273 sec)\n",
      "INFO:tensorflow:global_step/sec: 366.127\n",
      "INFO:tensorflow:loss = 0.52474433, step = 3900 (0.282 sec)\n",
      "INFO:tensorflow:global_step/sec: 347.286\n",
      "INFO:tensorflow:loss = 0.5124074, step = 4000 (0.283 sec)\n",
      "INFO:tensorflow:global_step/sec: 361.877\n",
      "INFO:tensorflow:loss = 0.51801395, step = 4100 (0.275 sec)\n",
      "INFO:tensorflow:global_step/sec: 358.922\n",
      "INFO:tensorflow:loss = 0.5017885, step = 4200 (0.277 sec)\n",
      "INFO:tensorflow:global_step/sec: 369.578\n",
      "INFO:tensorflow:loss = 0.48633802, step = 4300 (0.278 sec)\n",
      "INFO:tensorflow:global_step/sec: 363.79\n",
      "INFO:tensorflow:loss = 0.49099988, step = 4400 (0.276 sec)\n",
      "INFO:tensorflow:global_step/sec: 355.484\n",
      "INFO:tensorflow:loss = 0.48328403, step = 4500 (0.280 sec)\n",
      "INFO:tensorflow:global_step/sec: 343.028\n",
      "INFO:tensorflow:loss = 0.47427848, step = 4600 (0.283 sec)\n",
      "INFO:tensorflow:global_step/sec: 388.954\n",
      "INFO:tensorflow:loss = 0.4713331, step = 4700 (0.272 sec)\n",
      "INFO:tensorflow:global_step/sec: 338.405\n",
      "INFO:tensorflow:loss = 0.46816996, step = 4800 (0.295 sec)\n",
      "INFO:tensorflow:global_step/sec: 351.125\n",
      "INFO:tensorflow:loss = 0.46792805, step = 4900 (0.272 sec)\n",
      "INFO:tensorflow:Calling checkpoint listeners before saving checkpoint 5000...\n",
      "INFO:tensorflow:Saving checkpoints for 5000 into C:\\Users\\SHLOKR~1\\AppData\\Local\\Temp\\tmp7a551bg2\\model.ckpt.\n",
      "INFO:tensorflow:Calling checkpoint listeners after saving checkpoint 5000...\n",
      "INFO:tensorflow:Loss for final step: 0.45052743.\n"
     ]
    },
    {
     "data": {
      "text/plain": [
       "<tensorflow_estimator.python.estimator.canned.dnn.DNNClassifierV2 at 0x1eda8cb9460>"
      ]
     },
     "execution_count": 11,
     "metadata": {},
     "output_type": "execute_result"
    }
   ],
   "source": [
    "classifier.train(\n",
    "    # Since we didn't embed the input_fn inside of another function, we make use of lambda here\n",
    "    # But if we had embedded the input_fn inside of another function we could have simply skipped using lambda\n",
    "    # We set the training as true because we are currently training the model\n",
    "    input_fn=lambda: input_fn(train, train_y, training=True),\n",
    "    \n",
    "    # steps basically means how many times will our model see the data\n",
    "    # If steps is set to `None`, train forever or train until `input_fn` generates the `tf.errors.OutOfRange` error \n",
    "    # or `StopIteration` exception.\n",
    "    steps=5000)"
   ]
  },
  {
   "cell_type": "markdown",
   "metadata": {},
   "source": [
    "While the model is training we can see the **loss** after each step. Finally after the model is trained fully we can see the final **loss**. **The lower the loss is, the better the model.**"
   ]
  },
  {
   "cell_type": "markdown",
   "metadata": {},
   "source": [
    "The only thing to explain here is the **steps** argument. This simply tells the classifier to run for 5000 steps."
   ]
  },
  {
   "cell_type": "markdown",
   "metadata": {},
   "source": [
    "## Evaluation"
   ]
  },
  {
   "cell_type": "markdown",
   "metadata": {},
   "source": [
    "In the statement below **eval_result** is a *dictionary*, so when we used <code>**eval_result</code> we unpacked our dictionary. Thus when we used formatted strings to print the desired output of accuracy, instead of directly calling <code>eval_result['accuracy']</code> we simply called <code>accuracy</code>. Thus **eval_result** which is already unpacked matched the key, in this case accuracy, & substituted that value."
   ]
  },
  {
   "cell_type": "code",
   "execution_count": 12,
   "metadata": {},
   "outputs": [
    {
     "name": "stdout",
     "output_type": "stream",
     "text": [
      "INFO:tensorflow:Calling model_fn.\n",
      "INFO:tensorflow:Done calling model_fn.\n",
      "INFO:tensorflow:Starting evaluation at 2021-05-10T22:59:44Z\n",
      "INFO:tensorflow:Graph was finalized.\n",
      "INFO:tensorflow:Restoring parameters from C:\\Users\\SHLOKR~1\\AppData\\Local\\Temp\\tmp7a551bg2\\model.ckpt-5000\n",
      "INFO:tensorflow:Running local_init_op.\n",
      "INFO:tensorflow:Done running local_init_op.\n",
      "INFO:tensorflow:Inference Time : 0.65938s\n",
      "INFO:tensorflow:Finished evaluation at 2021-05-10-22:59:45\n",
      "INFO:tensorflow:Saving dict for global step 5000: accuracy = 0.9, average_loss = 0.5219545, global_step = 5000, loss = 0.5219545\n",
      "INFO:tensorflow:Saving 'checkpoint_path' summary for global step 5000: C:\\Users\\SHLOKR~1\\AppData\\Local\\Temp\\tmp7a551bg2\\model.ckpt-5000\n",
      "\n",
      "Test set accuracy: 0.900\n",
      "\n"
     ]
    }
   ],
   "source": [
    "eval_result = classifier.evaluate(\n",
    "    input_fn=lambda: input_fn(test, test_y, training=False))\n",
    "\n",
    "print('\\nTest set accuracy: {accuracy:0.3f}\\n'.format(**eval_result))"
   ]
  },
  {
   "cell_type": "code",
   "execution_count": 13,
   "metadata": {},
   "outputs": [
    {
     "name": "stdout",
     "output_type": "stream",
     "text": [
      "{'accuracy': 0.9, 'average_loss': 0.5219545, 'loss': 0.5219545, 'global_step': 5000}\n"
     ]
    }
   ],
   "source": [
    "print(eval_result)"
   ]
  },
  {
   "cell_type": "code",
   "execution_count": 14,
   "metadata": {},
   "outputs": [
    {
     "name": "stdout",
     "output_type": "stream",
     "text": [
      "\n",
      "Test set average loss: 0.522\n",
      "\n"
     ]
    }
   ],
   "source": [
    "# For example, if we input average_loss we get that value \n",
    "print('\\nTest set average loss: {average_loss:0.3f}\\n'.format(**eval_result))"
   ]
  },
  {
   "cell_type": "markdown",
   "metadata": {},
   "source": [
    "**Alternatively we could have used the following statement**"
   ]
  },
  {
   "cell_type": "code",
   "execution_count": 15,
   "metadata": {},
   "outputs": [
    {
     "name": "stdout",
     "output_type": "stream",
     "text": [
      "\n",
      "Test set average loss: 0.522\n",
      "\n"
     ]
    }
   ],
   "source": [
    "print(f'\\nTest set average loss: {eval_result[\"average_loss\"]:0.3f}\\n')"
   ]
  },
  {
   "cell_type": "markdown",
   "metadata": {},
   "source": [
    "## Prediction"
   ]
  },
  {
   "cell_type": "markdown",
   "metadata": {},
   "source": [
    "Although we could predict for all the datapoints from the dataset as shown for **linear regression** but here we are only doing it for one entry."
   ]
  },
  {
   "cell_type": "code",
   "execution_count": 16,
   "metadata": {
    "scrolled": true
   },
   "outputs": [
    {
     "name": "stdout",
     "output_type": "stream",
     "text": [
      "Please type numeric values as prompted.\n",
      "SepalLength: 1.5\n",
      "SepalWidth: 0.2\n",
      "PetalLength: 0.9\n",
      "PetalWidth: 0.5\n",
      "INFO:tensorflow:Calling model_fn.\n",
      "INFO:tensorflow:Done calling model_fn.\n",
      "INFO:tensorflow:Graph was finalized.\n",
      "INFO:tensorflow:Restoring parameters from C:\\Users\\SHLOKR~1\\AppData\\Local\\Temp\\tmp7a551bg2\\model.ckpt-5000\n",
      "INFO:tensorflow:Running local_init_op.\n",
      "INFO:tensorflow:Done running local_init_op.\n",
      "{'logits': array([-0.19346035, -0.21450466, -0.43543082], dtype=float32), 'probabilities': array([0.36176112, 0.35422766, 0.2840112 ], dtype=float32), 'class_ids': array([0], dtype=int64), 'classes': array([b'0'], dtype=object), 'all_class_ids': array([0, 1, 2]), 'all_classes': array([b'0', b'1', b'2'], dtype=object)}\n",
      "Prediction is \"Setosa\" (36.2%)\n"
     ]
    }
   ],
   "source": [
    "def input_fn(features, batch_size=256):\n",
    "    # Convert the inputs to a Dataset without labels.\n",
    "    # We aren't using any labels here is because when we are predicting a value we want the model to give us the labels\n",
    "    return tf.data.Dataset.from_tensor_slices(dict(features)).batch(batch_size)\n",
    "\n",
    "# These are the all the features available to us\n",
    "features = ['SepalLength', 'SepalWidth', 'PetalLength', 'PetalWidth']\n",
    "# Creating a dictionary to store our response\n",
    "predict = {}\n",
    "\n",
    "print(\"Please type numeric values as prompted.\")\n",
    "for feature in features:\n",
    "    valid = True\n",
    "    # This is to check if get a valid digit input\n",
    "    while valid: \n",
    "        val = input(feature + \": \")\n",
    "        # this .isdigit give false for floting point value and true for numerical value.\n",
    "        # That's why when we enter integer it ask to enter value once again.\n",
    "        if not val.isdigit(): valid = False\n",
    "            \n",
    "    # Store the valid response for that particular feature (key)\n",
    "    # Now we equated the predict[feature] to a list because .predict() method works on predicting for multiple things \n",
    "    # So even if we only have one value we want to predict for its expecting multiple items in that list\n",
    "    # With each row reperesenting different flower to predict for\n",
    "    predict[feature] = [float(val)]\n",
    "\n",
    "# Here the input function is the one made above \n",
    "predictions = classifier.predict(input_fn=lambda: input_fn(predict))\n",
    "# If we gave three inputs in predict than the below for loop runs three times.\n",
    "for pred_dict in predictions:\n",
    "    print(pred_dict)\n",
    "    class_id = pred_dict['class_ids'][0]\n",
    "    probability = pred_dict['probabilities'][class_id]\n",
    "\n",
    "    print('Prediction is \"{}\" ({:.1f}%)'.format(\n",
    "        SPECIES[class_id], 100 * probability))\n",
    "\n",
    "# What's happening in the above for loop?\n",
    "# Answer: After we have predicted what type of flower species we have saved it in the predictions generator which yields a\n",
    "# dictionary of prediction results for each example(in our case only one). From here we access the 'class_ids' key from our\n",
    "# dictionary which has saved the result of which species it is in integer form which corresponds to the index position of\n",
    "# SPECIES list. From this now we come to the 'probabilities' array which saves the information that for this particular example\n",
    "# what are the percentage that it belong to all the species (for example setosa 0.80, virginica 0.10 & versicolor 0.10). \n",
    "# This information is stored in the order in which 'SPECIES' list is formed corresponding to that index.\n",
    "# But since we know which specie it is from through 'class_ids' we match the probability & output the correct result."
   ]
  },
  {
   "cell_type": "code",
   "execution_count": 17,
   "metadata": {},
   "outputs": [],
   "source": [
    "# Here is some example input and expected classes you can try above\n",
    "expected = ['Setosa', 'Versicolor', 'Virginica']\n",
    "predict_x = {\n",
    "    'SepalLength': [5.1, 5.9, 6.9],\n",
    "    'SepalWidth': [3.3, 3.0, 3.1],\n",
    "    'PetalLength': [1.7, 4.2, 5.4],\n",
    "    'PetalWidth': [0.5, 1.5, 2.1],\n",
    "}"
   ]
  },
  {
   "cell_type": "code",
   "execution_count": 18,
   "metadata": {},
   "outputs": [
    {
     "name": "stdout",
     "output_type": "stream",
     "text": [
      "INFO:tensorflow:Calling model_fn.\n",
      "INFO:tensorflow:Done calling model_fn.\n",
      "INFO:tensorflow:Graph was finalized.\n",
      "INFO:tensorflow:Restoring parameters from C:\\Users\\SHLOKR~1\\AppData\\Local\\Temp\\tmp7a551bg2\\model.ckpt-5000\n",
      "INFO:tensorflow:Running local_init_op.\n",
      "INFO:tensorflow:Done running local_init_op.\n",
      "{'logits': array([ 1.4472338 ,  0.43695745, -1.2846324 ], dtype=float32), 'probabilities': array([0.69968426, 0.25476786, 0.04554782], dtype=float32), 'class_ids': array([0], dtype=int64), 'classes': array([b'0'], dtype=object), 'all_class_ids': array([0, 1, 2]), 'all_classes': array([b'0', b'1', b'2'], dtype=object)}\n",
      "Prediction is \"Setosa\" (70.0%)\n",
      "{'logits': array([-2.3480186, -1.1065042, -1.41342  ], dtype=float32), 'probabilities': array([0.14271358, 0.4939104 , 0.36337608], dtype=float32), 'class_ids': array([1], dtype=int64), 'classes': array([b'1'], dtype=object), 'all_class_ids': array([0, 1, 2]), 'all_classes': array([b'0', b'1', b'2'], dtype=object)}\n",
      "Prediction is \"Versicolor\" (49.4%)\n",
      "{'logits': array([-3.7529798, -2.1178   , -1.4044745], dtype=float32), 'probabilities': array([0.06023991, 0.30905366, 0.63070637], dtype=float32), 'class_ids': array([2], dtype=int64), 'classes': array([b'2'], dtype=object), 'all_class_ids': array([0, 1, 2]), 'all_classes': array([b'0', b'1', b'2'], dtype=object)}\n",
      "Prediction is \"Virginica\" (63.1%)\n"
     ]
    }
   ],
   "source": [
    "# Now run again predict for above input\n",
    "predictions = classifier.predict(input_fn=lambda: input_fn(predict_x))\n",
    "for pred_dict in predictions:\n",
    "    print(pred_dict)\n",
    "    class_id = pred_dict['class_ids'][0]\n",
    "    probability = pred_dict['probabilities'][class_id]\n",
    "\n",
    "    print('Prediction is \"{}\" ({:.1f}%)'.format(\n",
    "        SPECIES[class_id], 100 * probability))\n"
   ]
  }
 ],
 "metadata": {
  "kernelspec": {
   "display_name": "Python 3",
   "language": "python",
   "name": "python3"
  },
  "language_info": {
   "codemirror_mode": {
    "name": "ipython",
    "version": 3
   },
   "file_extension": ".py",
   "mimetype": "text/x-python",
   "name": "python",
   "nbconvert_exporter": "python",
   "pygments_lexer": "ipython3",
   "version": "3.8.5"
  }
 },
 "nbformat": 4,
 "nbformat_minor": 4
}
